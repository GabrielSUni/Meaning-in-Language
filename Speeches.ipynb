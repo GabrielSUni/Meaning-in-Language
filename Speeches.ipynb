{
 "cells": [
  {
   "cell_type": "code",
   "execution_count": 1,
   "metadata": {},
   "outputs": [],
   "source": [
    "import json\n",
    "import pandas as pd\n",
    "import numpy as np\n",
    "import math\n",
    "import matplotlib.pyplot as plt\n",
    "from Tests import Tests\n",
    "import scipy.optimize as opt"
   ]
  },
  {
   "cell_type": "code",
   "execution_count": 2,
   "metadata": {},
   "outputs": [],
   "source": [
    "f =open(\"speeches.json\")\n",
    "data = json.load(f)\n",
    "df = pd.DataFrame(data)"
   ]
  },
  {
   "cell_type": "code",
   "execution_count": 3,
   "metadata": {},
   "outputs": [],
   "source": [
    "# add presidents' birthdays\n",
    "birthdays = {\n",
    "\"John Quincy Adams\": \"1767-07-11\",\n",
    "\"Millard Fillmore\": \"1800-01-07\",\n",
    "\"Lyndon B. Johnson\": \"1908-08-27\",\n",
    "\"Joe Biden\": \"1942-11-20\",\n",
    "\"Grover Cleveland\": \"1837-03-18\",\n",
    "\"James K. Polk\": \"1795-11-02\",\n",
    "\"William Taft\": \"1857-09-15\",\n",
    "\"James Buchanan\": \"1791-04-23\",\n",
    "\"Ulysses S. Grant\": \"1822-04-27\",\n",
    "\"Zachary Taylor\": \"1784-11-24\",\n",
    "\"Rutherford B. Hayes\": \"1822-10-04\",\n",
    "\"George W. Bush\": \"1946-07-06\",\n",
    "\"George Washington\": \"1732-02-22\",\n",
    "\"Warren G. Harding\": \"1865-11-02\",\n",
    "\"Abraham Lincoln\": \"1809-02-12\",\n",
    "\"James Madison\": \"1751-03-16\",\n",
    "\"Herbert Hoover\": \"1874-08-10\",\n",
    "\"Franklin Pierce\": \"1804-11-23\",\n",
    "\"John Adams\": \"1735-10-30\",\n",
    "\"John F. Kennedy\": \"1917-05-29\",\n",
    "\"Andrew Jackson\": \"1767-03-15\",\n",
    "\"John Tyler\": \"1790-03-29\",\n",
    "\"Chester A. Arthur\": \"1829-10-05\",\n",
    "\"Gerald Ford\": \"1913-07-15\",\n",
    "\"Woodrow Wilson\": \"1856-12-28\",\n",
    "\"William Harrison\": \"1773-02-09\",\n",
    "\"Franklin D. Roosevelt\": \"1882-01-30\",\n",
    "\"Theodore Roosevelt\": \"1858-10-27\",\n",
    "\"Dwight D. Eisenhower\": \"1890-10-14\",\n",
    "\"Donald Trump\": \"1946-06-14\",\n",
    "\"Calvin Coolidge\": \"1872-07-04\",\n",
    "\"William McKinley\": \"1843-01-29\",\n",
    "\"Barack Obama\": \"1961-08-04\",\n",
    "\"Ronald Reagan\": \"1911-02-06\",\n",
    "\"Richard M. Nixon\": \"1913-01-09\",\n",
    "\"James A. Garfield\": \"1831-11-19\",\n",
    "\"Harry S. Truman\": \"1884-05-08\",\n",
    "\"James Monroe\": \"1758-04-28\",\n",
    "\"Andrew Johnson\": \"1808-12-29\",\n",
    "\"Martin Van Buren\": \"1782-12-05\",\n",
    "\"Bill Clinton\": \"1946-08-19\",\n",
    "\"Jimmy Carter\": \"1924-10-01\",\n",
    "\"George H. W. Bush\": \"1924-06-12\",\n",
    "\"Benjamin Harrison\": \"1833-08-20\",\n",
    "\"Thomas Jefferson\": \"1743-04-13\",\n",
    "}\n",
    "\n",
    "\n",
    "df[\"dateofbirth\"]= [birthdays[president] for president in df[\"president\"]]"
   ]
  },
  {
   "cell_type": "code",
   "execution_count": 4,
   "metadata": {},
   "outputs": [],
   "source": [
    "def getAge(df):\n",
    "    dfdates = pd.DataFrame({\n",
    "        'dateos': pd.to_datetime(df['date'], utc=True),\n",
    "        'dateob': pd.to_datetime(df['dateofbirth'])\n",
    "    })\n",
    "\n",
    "    # remove time stamp\n",
    "    dfdates[\"date\"] = pd.to_datetime([date.date() for date in dfdates[\"dateos\"]])\n",
    "\n",
    "    # Calculate the number of days between the two dates\n",
    "    dfdays = (dfdates['date'] - dfdates['dateob']).dt.days\n",
    "\n",
    "    dfyrs = dfdays/365.25\n",
    "    df_years = np.array([math.floor(age) for age in dfyrs])\n",
    "\n",
    "    return df_years\n",
    "\n",
    "df[\"age\"] = getAge(df)"
   ]
  },
  {
   "cell_type": "code",
   "execution_count": null,
   "metadata": {},
   "outputs": [],
   "source": [
    "df[\"CLI\"] = np.array([Tests.CLI(Tests(df[\"transcript\"][i])) for i in range(len(df))])\n",
    "df[\"FogCount\"] = np.array([Tests.FOGC(Tests(df[\"transcript\"][i])) for i in range(len(df))])\n",
    "df[\"DaleChall\"] = np.array([Tests.DaleChall(Tests(df[\"transcript\"][i])) for i in range(len(df))])"
   ]
  },
  {
   "cell_type": "code",
   "execution_count": 34,
   "metadata": {},
   "outputs": [],
   "source": [
    "# dcs = []\n",
    "# ages = []\n",
    "# for i in range(len(df)):\n",
    "#     if i %100 == 0:\n",
    "#         print(i)\n",
    "#         sp = Tests(df[\"transcript\"][i])\n",
    "#         dc = Tests.DaleChall(sp)\n",
    "#         dcs.append(dc)\n",
    "#         ages.append(df[\"age\"][i])\n",
    "# plt.plot(ages, dcs, linestyle=\"\", marker=\".\")"
   ]
  },
  {
   "cell_type": "code",
   "execution_count": 14,
   "metadata": {},
   "outputs": [
    {
     "name": "stdout",
     "output_type": "stream",
     "text": [
      "[-0.02672576 12.78124668] [0.00605159 0.35343076]\n"
     ]
    },
    {
     "data": {
      "text/plain": [
       "Text(0, 0.5, 'Coleman Liau Index')"
      ]
     },
     "execution_count": 14,
     "metadata": {},
     "output_type": "execute_result"
    },
    {
     "data": {
      "image/png": "[encoded data removed]",
      "text/plain": [
       "<Figure size 432x288 with 1 Axes>"
      ]
     },
     "metadata": {
      "needs_background": "light"
     },
     "output_type": "display_data"
    }
   ],
   "source": [
    "def linear_fit(x, m , t):\n",
    "    return m*x+t\n",
    "\n",
    "popt, pcov = opt.curve_fit(linear_fit, df[\"age\"], df[\"CLI\"])\n",
    "perr = np.sqrt(np.diag(pcov))\n",
    "\n",
    "print(popt, perr)\n",
    "\n",
    "\n",
    "plt.figure()\n",
    "plt.plot(df[\"age\"], df[\"CLI\"], label=\"data\", linestyle=\"\", marker=\".\")\n",
    "plt.plot(df[\"age\"], linear_fit(df[\"age\"], *popt), label=\"fit\")\n",
    "plt.grid()\n",
    "plt.legend()\n",
    "plt.xlabel(\"age in yrs\")\n",
    "plt.ylabel(\"Coleman Liau Index\")"
   ]
  },
  {
   "cell_type": "code",
   "execution_count": 22,
   "metadata": {},
   "outputs": [
    {
     "name": "stdout",
     "output_type": "stream",
     "text": [
      "[-0.10729289 22.26817389] [0.01944364 1.1355657 ]\n"
     ]
    },
    {
     "data": {
      "text/plain": [
       "Text(0, 0.5, 'Fog Count')"
      ]
     },
     "execution_count": 22,
     "metadata": {},
     "output_type": "execute_result"
    },
    {
     "data": {
      "image/png": "[encoded data removed]",
      "text/plain": [
       "<Figure size 432x288 with 1 Axes>"
      ]
     },
     "metadata": {
      "needs_background": "light"
     },
     "output_type": "display_data"
    }
   ],
   "source": [
    "popt, pcov = opt.curve_fit(linear_fit, df[\"age\"], df[\"FogCount\"])\n",
    "perr = np.sqrt(np.diag(pcov))\n",
    "\n",
    "print(popt, perr)\n",
    "\n",
    "\n",
    "plt.figure()\n",
    "plt.plot(df[\"age\"], df[\"FogCount\"], label=\"data\", linestyle=\"\", marker=\".\")\n",
    "plt.plot(df[\"age\"], linear_fit(df[\"age\"], *popt), label=\"fit\")\n",
    "plt.grid()\n",
    "plt.legend()\n",
    "plt.xlabel(\"age in yrs\")\n",
    "plt.ylabel(\"Fog Count\")"
   ]
  },
  {
   "cell_type": "code",
   "execution_count": 20,
   "metadata": {},
   "outputs": [
    {
     "data": {
      "text/plain": [
       "79.84"
      ]
     },
     "execution_count": 20,
     "metadata": {},
     "output_type": "execute_result"
    }
   ],
   "source": [
    "# sp = Tests(df[\"transcript\"][697])\n",
    "\n",
    "# Tests.FOGC(sp)"
   ]
  },
  {
   "cell_type": "code",
   "execution_count": null,
   "metadata": {},
   "outputs": [],
   "source": []
  }
 ],
 "metadata": {
  "kernelspec": {
   "display_name": "Python 3",
   "language": "python",
   "name": "python3"
  },
  "language_info": {
   "codemirror_mode": {
    "name": "ipython",
    "version": 3
   },
   "file_extension": ".py",
   "mimetype": "text/x-python",
   "name": "python",
   "nbconvert_exporter": "python",
   "pygments_lexer": "ipython3",
   "version": "3.10.12"
  }
 },
 "nbformat": 4,
 "nbformat_minor": 2
}
